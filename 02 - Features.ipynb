{
 "cells": [
  {
   "cell_type": "code",
   "execution_count": 122,
   "metadata": {
    "collapsed": false
   },
   "outputs": [],
   "source": [
    "import pandas as pd\n",
    "import numpy as np\n",
    "import matplotlib.pyplot as plt\n",
    "from sklearn.model_selection import train_test_split\n",
    "from sklearn.metrics import mean_absolute_error\n",
    "from sklearn.metrics import mean_squared_error"
   ]
  },
  {
   "cell_type": "code",
   "execution_count": 123,
   "metadata": {
    "collapsed": true
   },
   "outputs": [],
   "source": [
    "df = pd.read_csv(\"kc_house_data.csv\")"
   ]
  },
  {
   "cell_type": "code",
   "execution_count": 124,
   "metadata": {
    "collapsed": false
   },
   "outputs": [],
   "source": [
    "# посчитаем среднюю цену по каждому почтовому индексу и отсортируем по возрастанию\n",
    "averaged_by_zipcodes = df.groupby(['zipcode'], as_index=False).price.agg({'mean_price': np.mean})\\\n",
    "                        .sort_values(['mean_price'], ascending=True)"
   ]
  },
  {
   "cell_type": "code",
   "execution_count": 125,
   "metadata": {
    "collapsed": false
   },
   "outputs": [],
   "source": [
    "# все сделки с самым \"дешевым\" индексом \n",
    "cheap = df[df.zipcode == int(averaged_by_zipcodes.head(1).zipcode)]"
   ]
  },
  {
   "cell_type": "code",
   "execution_count": 126,
   "metadata": {
    "collapsed": false
   },
   "outputs": [
    {
     "data": {
      "text/html": [
       "<div>\n",
       "<table border=\"1\" class=\"dataframe\">\n",
       "  <thead>\n",
       "    <tr style=\"text-align: right;\">\n",
       "      <th></th>\n",
       "      <th>id</th>\n",
       "      <th>date</th>\n",
       "      <th>price</th>\n",
       "      <th>bedrooms</th>\n",
       "      <th>bathrooms</th>\n",
       "      <th>sqft_living</th>\n",
       "      <th>sqft_lot</th>\n",
       "      <th>floors</th>\n",
       "      <th>waterfront</th>\n",
       "      <th>view</th>\n",
       "      <th>...</th>\n",
       "      <th>grade</th>\n",
       "      <th>sqft_above</th>\n",
       "      <th>sqft_basement</th>\n",
       "      <th>yr_built</th>\n",
       "      <th>yr_renovated</th>\n",
       "      <th>zipcode</th>\n",
       "      <th>lat</th>\n",
       "      <th>long</th>\n",
       "      <th>sqft_living15</th>\n",
       "      <th>sqft_lot15</th>\n",
       "    </tr>\n",
       "  </thead>\n",
       "  <tbody>\n",
       "    <tr>\n",
       "      <th>count</th>\n",
       "      <td>1.990000e+02</td>\n",
       "      <td>199</td>\n",
       "      <td>199.000000</td>\n",
       "      <td>199.000000</td>\n",
       "      <td>199.000000</td>\n",
       "      <td>199.000000</td>\n",
       "      <td>199.000000</td>\n",
       "      <td>199.000000</td>\n",
       "      <td>199.0</td>\n",
       "      <td>199.000000</td>\n",
       "      <td>...</td>\n",
       "      <td>199.000000</td>\n",
       "      <td>199.000000</td>\n",
       "      <td>199.000000</td>\n",
       "      <td>199.000000</td>\n",
       "      <td>199.000000</td>\n",
       "      <td>199.0</td>\n",
       "      <td>199.000000</td>\n",
       "      <td>199.000000</td>\n",
       "      <td>199.000000</td>\n",
       "      <td>199.000000</td>\n",
       "    </tr>\n",
       "    <tr>\n",
       "      <th>unique</th>\n",
       "      <td>NaN</td>\n",
       "      <td>134</td>\n",
       "      <td>NaN</td>\n",
       "      <td>NaN</td>\n",
       "      <td>NaN</td>\n",
       "      <td>NaN</td>\n",
       "      <td>NaN</td>\n",
       "      <td>NaN</td>\n",
       "      <td>NaN</td>\n",
       "      <td>NaN</td>\n",
       "      <td>...</td>\n",
       "      <td>NaN</td>\n",
       "      <td>NaN</td>\n",
       "      <td>NaN</td>\n",
       "      <td>NaN</td>\n",
       "      <td>NaN</td>\n",
       "      <td>NaN</td>\n",
       "      <td>NaN</td>\n",
       "      <td>NaN</td>\n",
       "      <td>NaN</td>\n",
       "      <td>NaN</td>\n",
       "    </tr>\n",
       "    <tr>\n",
       "      <th>top</th>\n",
       "      <td>NaN</td>\n",
       "      <td>20140620T000000</td>\n",
       "      <td>NaN</td>\n",
       "      <td>NaN</td>\n",
       "      <td>NaN</td>\n",
       "      <td>NaN</td>\n",
       "      <td>NaN</td>\n",
       "      <td>NaN</td>\n",
       "      <td>NaN</td>\n",
       "      <td>NaN</td>\n",
       "      <td>...</td>\n",
       "      <td>NaN</td>\n",
       "      <td>NaN</td>\n",
       "      <td>NaN</td>\n",
       "      <td>NaN</td>\n",
       "      <td>NaN</td>\n",
       "      <td>NaN</td>\n",
       "      <td>NaN</td>\n",
       "      <td>NaN</td>\n",
       "      <td>NaN</td>\n",
       "      <td>NaN</td>\n",
       "    </tr>\n",
       "    <tr>\n",
       "      <th>freq</th>\n",
       "      <td>NaN</td>\n",
       "      <td>5</td>\n",
       "      <td>NaN</td>\n",
       "      <td>NaN</td>\n",
       "      <td>NaN</td>\n",
       "      <td>NaN</td>\n",
       "      <td>NaN</td>\n",
       "      <td>NaN</td>\n",
       "      <td>NaN</td>\n",
       "      <td>NaN</td>\n",
       "      <td>...</td>\n",
       "      <td>NaN</td>\n",
       "      <td>NaN</td>\n",
       "      <td>NaN</td>\n",
       "      <td>NaN</td>\n",
       "      <td>NaN</td>\n",
       "      <td>NaN</td>\n",
       "      <td>NaN</td>\n",
       "      <td>NaN</td>\n",
       "      <td>NaN</td>\n",
       "      <td>NaN</td>\n",
       "    </tr>\n",
       "    <tr>\n",
       "      <th>mean</th>\n",
       "      <td>4.850894e+09</td>\n",
       "      <td>NaN</td>\n",
       "      <td>234284.035176</td>\n",
       "      <td>3.326633</td>\n",
       "      <td>1.839196</td>\n",
       "      <td>1627.743719</td>\n",
       "      <td>7517.633166</td>\n",
       "      <td>1.334171</td>\n",
       "      <td>0.0</td>\n",
       "      <td>0.010050</td>\n",
       "      <td>...</td>\n",
       "      <td>6.693467</td>\n",
       "      <td>1522.537688</td>\n",
       "      <td>105.206030</td>\n",
       "      <td>1967.773869</td>\n",
       "      <td>59.889447</td>\n",
       "      <td>98002.0</td>\n",
       "      <td>47.308780</td>\n",
       "      <td>-122.213357</td>\n",
       "      <td>1479.030151</td>\n",
       "      <td>7585.482412</td>\n",
       "    </tr>\n",
       "    <tr>\n",
       "      <th>std</th>\n",
       "      <td>3.039520e+09</td>\n",
       "      <td>NaN</td>\n",
       "      <td>52041.448659</td>\n",
       "      <td>0.903888</td>\n",
       "      <td>0.738905</td>\n",
       "      <td>538.972544</td>\n",
       "      <td>3307.698822</td>\n",
       "      <td>0.446805</td>\n",
       "      <td>0.0</td>\n",
       "      <td>0.141776</td>\n",
       "      <td>...</td>\n",
       "      <td>0.682766</td>\n",
       "      <td>508.824142</td>\n",
       "      <td>272.888982</td>\n",
       "      <td>29.291881</td>\n",
       "      <td>340.528967</td>\n",
       "      <td>0.0</td>\n",
       "      <td>0.021246</td>\n",
       "      <td>0.011966</td>\n",
       "      <td>411.748525</td>\n",
       "      <td>5319.737463</td>\n",
       "    </tr>\n",
       "    <tr>\n",
       "      <th>min</th>\n",
       "      <td>1.000102e+06</td>\n",
       "      <td>NaN</td>\n",
       "      <td>95000.000000</td>\n",
       "      <td>1.000000</td>\n",
       "      <td>0.750000</td>\n",
       "      <td>690.000000</td>\n",
       "      <td>2800.000000</td>\n",
       "      <td>1.000000</td>\n",
       "      <td>0.0</td>\n",
       "      <td>0.000000</td>\n",
       "      <td>...</td>\n",
       "      <td>5.000000</td>\n",
       "      <td>690.000000</td>\n",
       "      <td>0.000000</td>\n",
       "      <td>1908.000000</td>\n",
       "      <td>0.000000</td>\n",
       "      <td>98002.0</td>\n",
       "      <td>47.276100</td>\n",
       "      <td>-122.229000</td>\n",
       "      <td>860.000000</td>\n",
       "      <td>2800.000000</td>\n",
       "    </tr>\n",
       "    <tr>\n",
       "      <th>25%</th>\n",
       "      <td>1.921059e+09</td>\n",
       "      <td>NaN</td>\n",
       "      <td>199975.000000</td>\n",
       "      <td>3.000000</td>\n",
       "      <td>1.000000</td>\n",
       "      <td>1215.000000</td>\n",
       "      <td>5265.000000</td>\n",
       "      <td>1.000000</td>\n",
       "      <td>0.0</td>\n",
       "      <td>0.000000</td>\n",
       "      <td>...</td>\n",
       "      <td>6.000000</td>\n",
       "      <td>1150.000000</td>\n",
       "      <td>0.000000</td>\n",
       "      <td>1953.000000</td>\n",
       "      <td>0.000000</td>\n",
       "      <td>98002.0</td>\n",
       "      <td>47.289800</td>\n",
       "      <td>-122.219000</td>\n",
       "      <td>1160.000000</td>\n",
       "      <td>5459.500000</td>\n",
       "    </tr>\n",
       "    <tr>\n",
       "      <th>50%</th>\n",
       "      <td>5.125400e+09</td>\n",
       "      <td>NaN</td>\n",
       "      <td>235000.000000</td>\n",
       "      <td>3.000000</td>\n",
       "      <td>1.750000</td>\n",
       "      <td>1570.000000</td>\n",
       "      <td>7282.000000</td>\n",
       "      <td>1.000000</td>\n",
       "      <td>0.0</td>\n",
       "      <td>0.000000</td>\n",
       "      <td>...</td>\n",
       "      <td>7.000000</td>\n",
       "      <td>1440.000000</td>\n",
       "      <td>0.000000</td>\n",
       "      <td>1966.000000</td>\n",
       "      <td>0.000000</td>\n",
       "      <td>98002.0</td>\n",
       "      <td>47.306300</td>\n",
       "      <td>-122.215000</td>\n",
       "      <td>1410.000000</td>\n",
       "      <td>7316.000000</td>\n",
       "    </tr>\n",
       "    <tr>\n",
       "      <th>75%</th>\n",
       "      <td>7.349400e+09</td>\n",
       "      <td>NaN</td>\n",
       "      <td>268500.000000</td>\n",
       "      <td>4.000000</td>\n",
       "      <td>2.250000</td>\n",
       "      <td>1984.000000</td>\n",
       "      <td>8896.500000</td>\n",
       "      <td>2.000000</td>\n",
       "      <td>0.0</td>\n",
       "      <td>0.000000</td>\n",
       "      <td>...</td>\n",
       "      <td>7.000000</td>\n",
       "      <td>1802.500000</td>\n",
       "      <td>0.000000</td>\n",
       "      <td>1990.500000</td>\n",
       "      <td>0.000000</td>\n",
       "      <td>98002.0</td>\n",
       "      <td>47.323100</td>\n",
       "      <td>-122.210000</td>\n",
       "      <td>1700.000000</td>\n",
       "      <td>8552.000000</td>\n",
       "    </tr>\n",
       "    <tr>\n",
       "      <th>max</th>\n",
       "      <td>9.500900e+09</td>\n",
       "      <td>NaN</td>\n",
       "      <td>389000.000000</td>\n",
       "      <td>6.000000</td>\n",
       "      <td>5.250000</td>\n",
       "      <td>3560.000000</td>\n",
       "      <td>26574.000000</td>\n",
       "      <td>2.000000</td>\n",
       "      <td>0.0</td>\n",
       "      <td>2.000000</td>\n",
       "      <td>...</td>\n",
       "      <td>8.000000</td>\n",
       "      <td>3560.000000</td>\n",
       "      <td>1310.000000</td>\n",
       "      <td>2014.000000</td>\n",
       "      <td>2001.000000</td>\n",
       "      <td>98002.0</td>\n",
       "      <td>47.353200</td>\n",
       "      <td>-122.080000</td>\n",
       "      <td>3078.000000</td>\n",
       "      <td>69993.000000</td>\n",
       "    </tr>\n",
       "  </tbody>\n",
       "</table>\n",
       "<p>11 rows × 21 columns</p>\n",
       "</div>"
      ],
      "text/plain": [
       "                  id             date          price    bedrooms   bathrooms  \\\n",
       "count   1.990000e+02              199     199.000000  199.000000  199.000000   \n",
       "unique           NaN              134            NaN         NaN         NaN   \n",
       "top              NaN  20140620T000000            NaN         NaN         NaN   \n",
       "freq             NaN                5            NaN         NaN         NaN   \n",
       "mean    4.850894e+09              NaN  234284.035176    3.326633    1.839196   \n",
       "std     3.039520e+09              NaN   52041.448659    0.903888    0.738905   \n",
       "min     1.000102e+06              NaN   95000.000000    1.000000    0.750000   \n",
       "25%     1.921059e+09              NaN  199975.000000    3.000000    1.000000   \n",
       "50%     5.125400e+09              NaN  235000.000000    3.000000    1.750000   \n",
       "75%     7.349400e+09              NaN  268500.000000    4.000000    2.250000   \n",
       "max     9.500900e+09              NaN  389000.000000    6.000000    5.250000   \n",
       "\n",
       "        sqft_living      sqft_lot      floors  waterfront        view  \\\n",
       "count    199.000000    199.000000  199.000000       199.0  199.000000   \n",
       "unique          NaN           NaN         NaN         NaN         NaN   \n",
       "top             NaN           NaN         NaN         NaN         NaN   \n",
       "freq            NaN           NaN         NaN         NaN         NaN   \n",
       "mean    1627.743719   7517.633166    1.334171         0.0    0.010050   \n",
       "std      538.972544   3307.698822    0.446805         0.0    0.141776   \n",
       "min      690.000000   2800.000000    1.000000         0.0    0.000000   \n",
       "25%     1215.000000   5265.000000    1.000000         0.0    0.000000   \n",
       "50%     1570.000000   7282.000000    1.000000         0.0    0.000000   \n",
       "75%     1984.000000   8896.500000    2.000000         0.0    0.000000   \n",
       "max     3560.000000  26574.000000    2.000000         0.0    2.000000   \n",
       "\n",
       "            ...            grade   sqft_above  sqft_basement     yr_built  \\\n",
       "count       ...       199.000000   199.000000     199.000000   199.000000   \n",
       "unique      ...              NaN          NaN            NaN          NaN   \n",
       "top         ...              NaN          NaN            NaN          NaN   \n",
       "freq        ...              NaN          NaN            NaN          NaN   \n",
       "mean        ...         6.693467  1522.537688     105.206030  1967.773869   \n",
       "std         ...         0.682766   508.824142     272.888982    29.291881   \n",
       "min         ...         5.000000   690.000000       0.000000  1908.000000   \n",
       "25%         ...         6.000000  1150.000000       0.000000  1953.000000   \n",
       "50%         ...         7.000000  1440.000000       0.000000  1966.000000   \n",
       "75%         ...         7.000000  1802.500000       0.000000  1990.500000   \n",
       "max         ...         8.000000  3560.000000    1310.000000  2014.000000   \n",
       "\n",
       "        yr_renovated  zipcode         lat        long  sqft_living15  \\\n",
       "count     199.000000    199.0  199.000000  199.000000     199.000000   \n",
       "unique           NaN      NaN         NaN         NaN            NaN   \n",
       "top              NaN      NaN         NaN         NaN            NaN   \n",
       "freq             NaN      NaN         NaN         NaN            NaN   \n",
       "mean       59.889447  98002.0   47.308780 -122.213357    1479.030151   \n",
       "std       340.528967      0.0    0.021246    0.011966     411.748525   \n",
       "min         0.000000  98002.0   47.276100 -122.229000     860.000000   \n",
       "25%         0.000000  98002.0   47.289800 -122.219000    1160.000000   \n",
       "50%         0.000000  98002.0   47.306300 -122.215000    1410.000000   \n",
       "75%         0.000000  98002.0   47.323100 -122.210000    1700.000000   \n",
       "max      2001.000000  98002.0   47.353200 -122.080000    3078.000000   \n",
       "\n",
       "          sqft_lot15  \n",
       "count     199.000000  \n",
       "unique           NaN  \n",
       "top              NaN  \n",
       "freq             NaN  \n",
       "mean     7585.482412  \n",
       "std      5319.737463  \n",
       "min      2800.000000  \n",
       "25%      5459.500000  \n",
       "50%      7316.000000  \n",
       "75%      8552.000000  \n",
       "max     69993.000000  \n",
       "\n",
       "[11 rows x 21 columns]"
      ]
     },
     "execution_count": 126,
     "metadata": {},
     "output_type": "execute_result"
    }
   ],
   "source": [
    "cheap.describe(include='all')"
   ]
  },
  {
   "cell_type": "code",
   "execution_count": 127,
   "metadata": {
    "collapsed": true
   },
   "outputs": [],
   "source": [
    "features = ['bedrooms', 'bathrooms','sqft_living', 'sqft_lot', 'floors', 'condition',\n",
    "            'grade', 'sqft_above', 'sqft_basement', 'yr_built', 'yr_renovated']"
   ]
  },
  {
   "cell_type": "code",
   "execution_count": 128,
   "metadata": {
    "collapsed": false
   },
   "outputs": [],
   "source": [
    "X_train, X_test, y_train, y_test = \\\n",
    "    train_test_split(cheap[features], cheap[['price']], test_size=0.33, random_state=42)"
   ]
  },
  {
   "cell_type": "code",
   "execution_count": 129,
   "metadata": {
    "collapsed": true
   },
   "outputs": [],
   "source": [
    "from sklearn.preprocessing import StandardScaler"
   ]
  },
  {
   "cell_type": "code",
   "execution_count": 131,
   "metadata": {
    "collapsed": false
   },
   "outputs": [
    {
     "data": {
      "text/plain": [
       "StandardScaler(copy=True, with_mean=True, with_std=True)"
      ]
     },
     "execution_count": 131,
     "metadata": {},
     "output_type": "execute_result"
    }
   ],
   "source": [
    "scaler = StandardScaler()\n",
    "scaler.fit(cheap[features])"
   ]
  },
  {
   "cell_type": "code",
   "execution_count": 132,
   "metadata": {
    "collapsed": true
   },
   "outputs": [],
   "source": [
    "from sklearn import linear_model"
   ]
  },
  {
   "cell_type": "code",
   "execution_count": 133,
   "metadata": {
    "collapsed": false
   },
   "outputs": [
    {
     "data": {
      "text/plain": [
       "LinearRegression(copy_X=True, fit_intercept=True, n_jobs=1, normalize=False)"
      ]
     },
     "execution_count": 133,
     "metadata": {},
     "output_type": "execute_result"
    }
   ],
   "source": [
    "# Линейная регрессия на одном признаке\n",
    "reg_one = linear_model.LinearRegression()\n",
    "reg_one.fit(X_train[['sqft_living']], y_train)"
   ]
  },
  {
   "cell_type": "code",
   "execution_count": 134,
   "metadata": {
    "collapsed": false
   },
   "outputs": [
    {
     "data": {
      "text/plain": [
       "LinearRegression(copy_X=True, fit_intercept=True, n_jobs=1, normalize=False)"
      ]
     },
     "execution_count": 134,
     "metadata": {},
     "output_type": "execute_result"
    }
   ],
   "source": [
    "# Линейная регрессия по всем признакам\n",
    "reg_m = linear_model.LinearRegression()\n",
    "reg_m.fit(X_train, y_train)"
   ]
  },
  {
   "cell_type": "code",
   "execution_count": 151,
   "metadata": {
    "collapsed": false
   },
   "outputs": [
    {
     "data": {
      "text/plain": [
       "Lasso(alpha=5000, copy_X=True, fit_intercept=True, max_iter=10000,\n",
       "   normalize=False, positive=False, precompute=False, random_state=None,\n",
       "   selection='cyclic', tol=0.0001, warm_start=False)"
      ]
     },
     "execution_count": 151,
     "metadata": {},
     "output_type": "execute_result"
    }
   ],
   "source": [
    "# Линейная регрессия с L1 регуляризацией - Лассо\n",
    "reg_lasso = linear_model.Lasso(alpha=5000, max_iter=10000)\n",
    "reg_lasso.fit(scaler.transform(X_train), y_train)"
   ]
  },
  {
   "cell_type": "code",
   "execution_count": 152,
   "metadata": {
    "collapsed": false
   },
   "outputs": [
    {
     "name": "stdout",
     "output_type": "stream",
     "text": [
      "Обучающая выборка\n",
      "MAE LinearRegression с одним признаком:\t\t 26520\n",
      "MAE LinearRegression с многими признаками:\t 21559\n",
      "MAE Lasso с многими признаками:\t\t\t 22273\n",
      "Тестовая выборка\n",
      "MAE LinearRegression с одним признаком:\t\t 25303\n",
      "MAE LinearRegression с многими признаками:\t 22187\n",
      "MAE Lasso с многими признаками:\t\t\t 21526\n"
     ]
    }
   ],
   "source": [
    "print('Обучающая выборка')\n",
    "print('MAE LinearRegression с одним признаком:\\t\\t %d' % mean_absolute_error(y_train, reg_one.predict(X_train[['sqft_living']])))\n",
    "print('MAE LinearRegression с многими признаками:\\t %d' % mean_absolute_error(y_train, reg_m.predict(X_train)))\n",
    "print('MAE Lasso с многими признаками:\\t\\t\\t %d' % mean_absolute_error(y_train, reg_lasso.predict(scaler.transform(X_train))))\n",
    "print('Тестовая выборка')\n",
    "print('MAE LinearRegression с одним признаком:\\t\\t %d' % mean_absolute_error(y_test, reg_one.predict(X_test[['sqft_living']])))\n",
    "print('MAE LinearRegression с многими признаками:\\t %d' % mean_absolute_error(y_test, reg_m.predict(X_test)))\n",
    "print('MAE Lasso с многими признаками:\\t\\t\\t %d' % mean_absolute_error(y_test, reg_lasso.predict(scaler.transform(X_test))))"
   ]
  },
  {
   "cell_type": "code",
   "execution_count": 153,
   "metadata": {
    "collapsed": false
   },
   "outputs": [
    {
     "data": {
      "text/plain": [
       "array([     0.        ,  13181.92688326,  17504.69898118,   2463.62743793,\n",
       "            0.        ,     -0.        ,   5594.30593442,   2120.47630077,\n",
       "            0.        ,   5264.64866658,     -0.        ])"
      ]
     },
     "execution_count": 153,
     "metadata": {},
     "output_type": "execute_result"
    }
   ],
   "source": [
    "# Коэффициенты Lasso модели\n",
    "reg_lasso.coef_"
   ]
  },
  {
   "cell_type": "code",
   "execution_count": 159,
   "metadata": {
    "collapsed": false
   },
   "outputs": [
    {
     "data": {
      "text/plain": [
       "Index([u'bedrooms', u'floors', u'condition', u'sqft_basement',\n",
       "       u'yr_renovated'],\n",
       "      dtype='object')"
      ]
     },
     "execution_count": 159,
     "metadata": {},
     "output_type": "execute_result"
    }
   ],
   "source": [
    "# Посмотрим что занулилось Lasso\n",
    "X_train.columns[reg_lasso.coef_ == 0.]"
   ]
  },
  {
   "cell_type": "code",
   "execution_count": 155,
   "metadata": {
    "collapsed": true
   },
   "outputs": [],
   "source": [
    "import seaborn as sns"
   ]
  },
  {
   "cell_type": "markdown",
   "metadata": {},
   "source": [
    "Демонстрация корреляции: http://rpsychologist.com/d3/correlation/"
   ]
  },
  {
   "cell_type": "code",
   "execution_count": 156,
   "metadata": {
    "collapsed": false
   },
   "outputs": [
    {
     "data": {
      "image/png": "[encoded data removed]",
      "text/plain": [
       "<matplotlib.figure.Figure at 0x7f3078324910>"
      ]
     },
     "metadata": {},
     "output_type": "display_data"
    }
   ],
   "source": [
    "sns.pairplot(cheap[['sqft_living', 'sqft_lot', 'price']])\n",
    "plt.show()"
   ]
  },
  {
   "cell_type": "code",
   "execution_count": 157,
   "metadata": {
    "collapsed": false
   },
   "outputs": [
    {
     "data": {
      "text/html": [
       "<div>\n",
       "<table border=\"1\" class=\"dataframe\">\n",
       "  <thead>\n",
       "    <tr style=\"text-align: right;\">\n",
       "      <th></th>\n",
       "      <th>price</th>\n",
       "      <th>bedrooms</th>\n",
       "      <th>bathrooms</th>\n",
       "      <th>sqft_living</th>\n",
       "      <th>sqft_lot</th>\n",
       "      <th>floors</th>\n",
       "      <th>condition</th>\n",
       "      <th>grade</th>\n",
       "      <th>sqft_above</th>\n",
       "      <th>sqft_basement</th>\n",
       "      <th>yr_built</th>\n",
       "      <th>yr_renovated</th>\n",
       "    </tr>\n",
       "  </thead>\n",
       "  <tbody>\n",
       "    <tr>\n",
       "      <th>price</th>\n",
       "      <td>1.000000</td>\n",
       "      <td>0.591370</td>\n",
       "      <td>0.736833</td>\n",
       "      <td>0.778912</td>\n",
       "      <td>0.086848</td>\n",
       "      <td>0.442597</td>\n",
       "      <td>-0.314724</td>\n",
       "      <td>0.598191</td>\n",
       "      <td>0.736434</td>\n",
       "      <td>0.165257</td>\n",
       "      <td>0.499212</td>\n",
       "      <td>0.005649</td>\n",
       "    </tr>\n",
       "    <tr>\n",
       "      <th>bedrooms</th>\n",
       "      <td>0.591370</td>\n",
       "      <td>1.000000</td>\n",
       "      <td>0.612153</td>\n",
       "      <td>0.738366</td>\n",
       "      <td>0.168229</td>\n",
       "      <td>0.259851</td>\n",
       "      <td>-0.131664</td>\n",
       "      <td>0.367648</td>\n",
       "      <td>0.642789</td>\n",
       "      <td>0.259785</td>\n",
       "      <td>0.233425</td>\n",
       "      <td>0.034165</td>\n",
       "    </tr>\n",
       "    <tr>\n",
       "      <th>bathrooms</th>\n",
       "      <td>0.736833</td>\n",
       "      <td>0.612153</td>\n",
       "      <td>1.000000</td>\n",
       "      <td>0.784250</td>\n",
       "      <td>-0.109943</td>\n",
       "      <td>0.595748</td>\n",
       "      <td>-0.406297</td>\n",
       "      <td>0.492447</td>\n",
       "      <td>0.740822</td>\n",
       "      <td>0.167618</td>\n",
       "      <td>0.515813</td>\n",
       "      <td>0.048398</td>\n",
       "    </tr>\n",
       "    <tr>\n",
       "      <th>sqft_living</th>\n",
       "      <td>0.778912</td>\n",
       "      <td>0.738366</td>\n",
       "      <td>0.784250</td>\n",
       "      <td>1.000000</td>\n",
       "      <td>0.073049</td>\n",
       "      <td>0.415110</td>\n",
       "      <td>-0.226197</td>\n",
       "      <td>0.534656</td>\n",
       "      <td>0.865886</td>\n",
       "      <td>0.360545</td>\n",
       "      <td>0.309551</td>\n",
       "      <td>0.031500</td>\n",
       "    </tr>\n",
       "    <tr>\n",
       "      <th>sqft_lot</th>\n",
       "      <td>0.086848</td>\n",
       "      <td>0.168229</td>\n",
       "      <td>-0.109943</td>\n",
       "      <td>0.073049</td>\n",
       "      <td>1.000000</td>\n",
       "      <td>-0.368365</td>\n",
       "      <td>0.184283</td>\n",
       "      <td>0.107386</td>\n",
       "      <td>0.045556</td>\n",
       "      <td>0.059334</td>\n",
       "      <td>-0.201105</td>\n",
       "      <td>-0.011491</td>\n",
       "    </tr>\n",
       "    <tr>\n",
       "      <th>floors</th>\n",
       "      <td>0.442597</td>\n",
       "      <td>0.259851</td>\n",
       "      <td>0.595748</td>\n",
       "      <td>0.415110</td>\n",
       "      <td>-0.368365</td>\n",
       "      <td>1.000000</td>\n",
       "      <td>-0.407258</td>\n",
       "      <td>0.287810</td>\n",
       "      <td>0.560805</td>\n",
       "      <td>-0.225800</td>\n",
       "      <td>0.499556</td>\n",
       "      <td>0.098449</td>\n",
       "    </tr>\n",
       "    <tr>\n",
       "      <th>condition</th>\n",
       "      <td>-0.314724</td>\n",
       "      <td>-0.131664</td>\n",
       "      <td>-0.406297</td>\n",
       "      <td>-0.226197</td>\n",
       "      <td>0.184283</td>\n",
       "      <td>-0.407258</td>\n",
       "      <td>1.000000</td>\n",
       "      <td>-0.382125</td>\n",
       "      <td>-0.306703</td>\n",
       "      <td>0.125120</td>\n",
       "      <td>-0.710672</td>\n",
       "      <td>-0.066806</td>\n",
       "    </tr>\n",
       "    <tr>\n",
       "      <th>grade</th>\n",
       "      <td>0.598191</td>\n",
       "      <td>0.367648</td>\n",
       "      <td>0.492447</td>\n",
       "      <td>0.534656</td>\n",
       "      <td>0.107386</td>\n",
       "      <td>0.287810</td>\n",
       "      <td>-0.382125</td>\n",
       "      <td>1.000000</td>\n",
       "      <td>0.557067</td>\n",
       "      <td>0.017282</td>\n",
       "      <td>0.526328</td>\n",
       "      <td>-0.007228</td>\n",
       "    </tr>\n",
       "    <tr>\n",
       "      <th>sqft_above</th>\n",
       "      <td>0.736434</td>\n",
       "      <td>0.642789</td>\n",
       "      <td>0.740822</td>\n",
       "      <td>0.865886</td>\n",
       "      <td>0.045556</td>\n",
       "      <td>0.560805</td>\n",
       "      <td>-0.306703</td>\n",
       "      <td>0.557067</td>\n",
       "      <td>1.000000</td>\n",
       "      <td>-0.154405</td>\n",
       "      <td>0.377316</td>\n",
       "      <td>0.002527</td>\n",
       "    </tr>\n",
       "    <tr>\n",
       "      <th>sqft_basement</th>\n",
       "      <td>0.165257</td>\n",
       "      <td>0.259785</td>\n",
       "      <td>0.167618</td>\n",
       "      <td>0.360545</td>\n",
       "      <td>0.059334</td>\n",
       "      <td>-0.225800</td>\n",
       "      <td>0.125120</td>\n",
       "      <td>0.017282</td>\n",
       "      <td>-0.154405</td>\n",
       "      <td>1.000000</td>\n",
       "      <td>-0.092155</td>\n",
       "      <td>0.057504</td>\n",
       "    </tr>\n",
       "    <tr>\n",
       "      <th>yr_built</th>\n",
       "      <td>0.499212</td>\n",
       "      <td>0.233425</td>\n",
       "      <td>0.515813</td>\n",
       "      <td>0.309551</td>\n",
       "      <td>-0.201105</td>\n",
       "      <td>0.499556</td>\n",
       "      <td>-0.710672</td>\n",
       "      <td>0.526328</td>\n",
       "      <td>0.377316</td>\n",
       "      <td>-0.092155</td>\n",
       "      <td>1.000000</td>\n",
       "      <td>-0.183381</td>\n",
       "    </tr>\n",
       "    <tr>\n",
       "      <th>yr_renovated</th>\n",
       "      <td>0.005649</td>\n",
       "      <td>0.034165</td>\n",
       "      <td>0.048398</td>\n",
       "      <td>0.031500</td>\n",
       "      <td>-0.011491</td>\n",
       "      <td>0.098449</td>\n",
       "      <td>-0.066806</td>\n",
       "      <td>-0.007228</td>\n",
       "      <td>0.002527</td>\n",
       "      <td>0.057504</td>\n",
       "      <td>-0.183381</td>\n",
       "      <td>1.000000</td>\n",
       "    </tr>\n",
       "  </tbody>\n",
       "</table>\n",
       "</div>"
      ],
      "text/plain": [
       "                  price  bedrooms  bathrooms  sqft_living  sqft_lot    floors  \\\n",
       "price          1.000000  0.591370   0.736833     0.778912  0.086848  0.442597   \n",
       "bedrooms       0.591370  1.000000   0.612153     0.738366  0.168229  0.259851   \n",
       "bathrooms      0.736833  0.612153   1.000000     0.784250 -0.109943  0.595748   \n",
       "sqft_living    0.778912  0.738366   0.784250     1.000000  0.073049  0.415110   \n",
       "sqft_lot       0.086848  0.168229  -0.109943     0.073049  1.000000 -0.368365   \n",
       "floors         0.442597  0.259851   0.595748     0.415110 -0.368365  1.000000   \n",
       "condition     -0.314724 -0.131664  -0.406297    -0.226197  0.184283 -0.407258   \n",
       "grade          0.598191  0.367648   0.492447     0.534656  0.107386  0.287810   \n",
       "sqft_above     0.736434  0.642789   0.740822     0.865886  0.045556  0.560805   \n",
       "sqft_basement  0.165257  0.259785   0.167618     0.360545  0.059334 -0.225800   \n",
       "yr_built       0.499212  0.233425   0.515813     0.309551 -0.201105  0.499556   \n",
       "yr_renovated   0.005649  0.034165   0.048398     0.031500 -0.011491  0.098449   \n",
       "\n",
       "               condition     grade  sqft_above  sqft_basement  yr_built  \\\n",
       "price          -0.314724  0.598191    0.736434       0.165257  0.499212   \n",
       "bedrooms       -0.131664  0.367648    0.642789       0.259785  0.233425   \n",
       "bathrooms      -0.406297  0.492447    0.740822       0.167618  0.515813   \n",
       "sqft_living    -0.226197  0.534656    0.865886       0.360545  0.309551   \n",
       "sqft_lot        0.184283  0.107386    0.045556       0.059334 -0.201105   \n",
       "floors         -0.407258  0.287810    0.560805      -0.225800  0.499556   \n",
       "condition       1.000000 -0.382125   -0.306703       0.125120 -0.710672   \n",
       "grade          -0.382125  1.000000    0.557067       0.017282  0.526328   \n",
       "sqft_above     -0.306703  0.557067    1.000000      -0.154405  0.377316   \n",
       "sqft_basement   0.125120  0.017282   -0.154405       1.000000 -0.092155   \n",
       "yr_built       -0.710672  0.526328    0.377316      -0.092155  1.000000   \n",
       "yr_renovated   -0.066806 -0.007228    0.002527       0.057504 -0.183381   \n",
       "\n",
       "               yr_renovated  \n",
       "price              0.005649  \n",
       "bedrooms           0.034165  \n",
       "bathrooms          0.048398  \n",
       "sqft_living        0.031500  \n",
       "sqft_lot          -0.011491  \n",
       "floors             0.098449  \n",
       "condition         -0.066806  \n",
       "grade             -0.007228  \n",
       "sqft_above         0.002527  \n",
       "sqft_basement      0.057504  \n",
       "yr_built          -0.183381  \n",
       "yr_renovated       1.000000  "
      ]
     },
     "execution_count": 157,
     "metadata": {},
     "output_type": "execute_result"
    }
   ],
   "source": [
    "cheap[['price'] + features].corr()"
   ]
  },
  {
   "cell_type": "code",
   "execution_count": 158,
   "metadata": {
    "collapsed": true
   },
   "outputs": [],
   "source": [
    "from sklearn.model_selection import cross_val_score"
   ]
  },
  {
   "cell_type": "markdown",
   "metadata": {},
   "source": [
    "https://ru.wikipedia.org/wiki/Коэффициент_детерминации"
   ]
  },
  {
   "cell_type": "markdown",
   "metadata": {},
   "source": [
    "https://ru.wikipedia.org/wiki/Корреляция"
   ]
  },
  {
   "cell_type": "code",
   "execution_count": 42,
   "metadata": {
    "collapsed": false
   },
   "outputs": [],
   "source": [
    "regr = linear_model.LinearRegression()\n",
    "curr_feature_set = ['sqft_living']\n",
    "current_score = np.mean(cross_val_score(regr, cheap[curr_feature_set], cheap['price'], cv=5, scoring='r2'))\n",
    "secondary_features = ['bedrooms', \n",
    "                      'bathrooms', \n",
    "                      'sqft_lot', \n",
    "                      'floors', \n",
    "                      'condition', \n",
    "                      'grade', \n",
    "                      'sqft_above', \n",
    "                      'sqft_basement', \n",
    "                      'yr_built', \n",
    "                      'yr_renovated']\n",
    "feature_r2_scores = [current_score]\n",
    "while True:\n",
    "    r2_scores = []\n",
    "    for feature in secondary_features:\n",
    "        regr = linear_model.LinearRegression()\n",
    "        r2_scores.append((feature, np.mean(cross_val_score(regr, cheap[curr_feature_set + [feature]], cheap['price'], cv=10, scoring='r2'))))\n",
    "    r2_scores.sort(key=lambda x: x[1], reverse=True)\n",
    "    top_feature = r2_scores[0]\n",
    "    if current_score < top_feature[1]:\n",
    "        current_score = top_feature[1]\n",
    "        curr_feature_set.append(top_feature[0])\n",
    "        feature_r2_scores.append(current_score)\n",
    "        secondary_features.remove(top_feature[0])\n",
    "    else: break"
   ]
  },
  {
   "cell_type": "code",
   "execution_count": 40,
   "metadata": {
    "collapsed": false
   },
   "outputs": [
    {
     "data": {
      "text/plain": [
       "['sqft_living',\n",
       " 'yr_built',\n",
       " 'bathrooms',\n",
       " 'condition',\n",
       " 'yr_renovated',\n",
       " 'sqft_basement']"
      ]
     },
     "execution_count": 40,
     "metadata": {},
     "output_type": "execute_result"
    }
   ],
   "source": [
    "curr_feature_set"
   ]
  },
  {
   "cell_type": "code",
   "execution_count": 43,
   "metadata": {
    "collapsed": false
   },
   "outputs": [
    {
     "data": {
      "text/plain": [
       "[0.51859861876161228,\n",
       " 0.61045117225179724,\n",
       " 0.62034177736166374,\n",
       " 0.62483564208697928,\n",
       " 0.62704194522893897,\n",
       " 0.62879711101097147]"
      ]
     },
     "execution_count": 43,
     "metadata": {},
     "output_type": "execute_result"
    }
   ],
   "source": [
    "feature_r2_scores"
   ]
  },
  {
   "cell_type": "code",
   "execution_count": 160,
   "metadata": {
    "collapsed": false
   },
   "outputs": [
    {
     "data": {
      "text/plain": [
       "LinearRegression(copy_X=True, fit_intercept=True, n_jobs=1, normalize=False)"
      ]
     },
     "execution_count": 160,
     "metadata": {},
     "output_type": "execute_result"
    }
   ],
   "source": [
    "reg_multiple = linear_model.LinearRegression()\n",
    "reg_multiple.fit(X_train[curr_feature_set], y_train)"
   ]
  },
  {
   "cell_type": "code",
   "execution_count": 161,
   "metadata": {
    "collapsed": false
   },
   "outputs": [
    {
     "name": "stdout",
     "output_type": "stream",
     "text": [
      "Обучающая выборка\n",
      "MAE LinearRegression с одним признаком:\t\t 26520\n",
      "MAE LinearRegression с многими признаками:\t 21559\n",
      "MAE Lasso с многими признаками:\t\t\t 22273\n",
      "MAE LinearRegression с отобранными признаками:\t 22062\n",
      "Тестовая выборка\n",
      "MAE LinearRegression с одним признаком:\t\t 25303\n",
      "MAE LinearRegression с многими признаками:\t 22187\n",
      "MAE Lasso с многими признаками:\t\t\t 21526\n",
      "MAE LinearRegression с отобранными признаками:\t 20162\n"
     ]
    }
   ],
   "source": [
    "print('Обучающая выборка')\n",
    "print('MAE LinearRegression с одним признаком:\\t\\t %d' % mean_absolute_error(y_train, reg_one.predict(X_train[['sqft_living']])))\n",
    "print('MAE LinearRegression с многими признаками:\\t %d' % mean_absolute_error(y_train, reg_m.predict(X_train)))\n",
    "print('MAE Lasso с многими признаками:\\t\\t\\t %d' % mean_absolute_error(y_train, reg_lasso.predict(scaler.transform(X_train))))\n",
    "print('MAE LinearRegression с отобранными признаками:\\t %d' % mean_absolute_error(y_train, reg_multiple.predict(X_train[curr_feature_set])))\n",
    "print('Тестовая выборка')\n",
    "print('MAE LinearRegression с одним признаком:\\t\\t %d' % mean_absolute_error(y_test, reg_one.predict(X_test[['sqft_living']])))\n",
    "print('MAE LinearRegression с многими признаками:\\t %d' % mean_absolute_error(y_test, reg_m.predict(X_test)))\n",
    "print('MAE Lasso с многими признаками:\\t\\t\\t %d' % mean_absolute_error(y_test, reg_lasso.predict(scaler.transform(X_test))))\n",
    "print('MAE LinearRegression с отобранными признаками:\\t %d' % mean_absolute_error(y_test, reg_multiple.predict(X_test[curr_feature_set])))"
   ]
  },
  {
   "cell_type": "code",
   "execution_count": 162,
   "metadata": {
    "collapsed": true
   },
   "outputs": [],
   "source": [
    "# Добавление категориальных фич\n",
    "# Сделаем одну регрессионную модель для всех районов (zipcodes)\n",
    "# Затем добавим zipcode как категориальный признак"
   ]
  },
  {
   "cell_type": "code",
   "execution_count": 180,
   "metadata": {
    "collapsed": false
   },
   "outputs": [],
   "source": [
    "X_train, X_test, y_train, y_test = \\\n",
    "    train_test_split(df[curr_feature_set], df[['price']], test_size=0.33, random_state=42)"
   ]
  },
  {
   "cell_type": "code",
   "execution_count": 181,
   "metadata": {
    "collapsed": false
   },
   "outputs": [
    {
     "data": {
      "text/plain": [
       "LinearRegression(copy_X=True, fit_intercept=True, n_jobs=1, normalize=False)"
      ]
     },
     "execution_count": 181,
     "metadata": {},
     "output_type": "execute_result"
    }
   ],
   "source": [
    "reg = linear_model.LinearRegression()\n",
    "reg.fit(X_train[curr_feature_set], y_train)"
   ]
  },
  {
   "cell_type": "code",
   "execution_count": 182,
   "metadata": {
    "collapsed": false
   },
   "outputs": [
    {
     "name": "stdout",
     "output_type": "stream",
     "text": [
      "Обучающая выборка\n",
      "MAE LinearRegression с многими признаками:\t 162981\n",
      "Тестовая выборка\n",
      "MAE LinearRegression с многими признаками:\t 168846\n"
     ]
    }
   ],
   "source": [
    "print('Обучающая выборка')\n",
    "print('MAE LinearRegression с многими признаками:\\t %d' % mean_absolute_error(y_train, reg.predict(X_train)))\n",
    "print('Тестовая выборка')\n",
    "print('MAE LinearRegression с многими признаками:\\t %d' % mean_absolute_error(y_test, reg.predict(X_test)))"
   ]
  },
  {
   "cell_type": "code",
   "execution_count": 169,
   "metadata": {
    "collapsed": false
   },
   "outputs": [
    {
     "data": {
      "text/plain": [
       "array([[  2.76648749e+02,  -2.56242508e+03,   6.04508727e+04,\n",
       "          1.34314206e+04,   3.50149436e+01,  -4.33948099e+01,\n",
       "          2.93117786e+02]])"
      ]
     },
     "execution_count": 169,
     "metadata": {},
     "output_type": "execute_result"
    }
   ],
   "source": []
  },
  {
   "cell_type": "code",
   "execution_count": 170,
   "metadata": {
    "collapsed": true
   },
   "outputs": [],
   "source": [
    "from sklearn.preprocessing import LabelBinarizer"
   ]
  },
  {
   "cell_type": "code",
   "execution_count": 171,
   "metadata": {
    "collapsed": true
   },
   "outputs": [],
   "source": [
    "binarizer = LabelBinarizer()"
   ]
  },
  {
   "cell_type": "code",
   "execution_count": 172,
   "metadata": {
    "collapsed": false
   },
   "outputs": [
    {
     "data": {
      "text/plain": [
       "LabelBinarizer(neg_label=0, pos_label=1, sparse_output=False)"
      ]
     },
     "execution_count": 172,
     "metadata": {},
     "output_type": "execute_result"
    }
   ],
   "source": [
    "binarizer.fit(df.zipcode)"
   ]
  },
  {
   "cell_type": "code",
   "execution_count": 173,
   "metadata": {
    "collapsed": false
   },
   "outputs": [],
   "source": [
    "df_extended = pd.concat([df, pd.DataFrame(binarizer.transform(df.zipcode), columns=map(str, range(70)))], axis=1)"
   ]
  },
  {
   "cell_type": "code",
   "execution_count": 174,
   "metadata": {
    "collapsed": false
   },
   "outputs": [],
   "source": [
    "features_extended = curr_feature_set + map(str, range(70))"
   ]
  },
  {
   "cell_type": "code",
   "execution_count": 175,
   "metadata": {
    "collapsed": false
   },
   "outputs": [],
   "source": [
    "X_train, X_test, y_train, y_test = \\\n",
    "    train_test_split(df_extended[features_extended], df_extended[['price']], test_size=0.33, random_state=42)"
   ]
  },
  {
   "cell_type": "code",
   "execution_count": 176,
   "metadata": {
    "collapsed": false
   },
   "outputs": [
    {
     "data": {
      "text/plain": [
       "LinearRegression(copy_X=True, fit_intercept=True, n_jobs=1, normalize=False)"
      ]
     },
     "execution_count": 176,
     "metadata": {},
     "output_type": "execute_result"
    }
   ],
   "source": [
    "reg_extended = linear_model.LinearRegression()\n",
    "reg_extended.fit(X_train[features_extended], y_train)"
   ]
  },
  {
   "cell_type": "code",
   "execution_count": 177,
   "metadata": {
    "collapsed": false
   },
   "outputs": [
    {
     "name": "stdout",
     "output_type": "stream",
     "text": [
      "Обучающая выборка\n",
      "MAE LinearRegression с многими признаками:\t 107101\n",
      "Тестовая выборка\n",
      "MAE LinearRegression с многими признаками:\t 110923\n"
     ]
    }
   ],
   "source": [
    "print('Обучающая выборка')\n",
    "print('MAE LinearRegression с многими признаками:\\t %d' % mean_absolute_error(y_train, reg_extended.predict(X_train)))\n",
    "print('Тестовая выборка')\n",
    "print('MAE LinearRegression с многими признаками:\\t %d' % mean_absolute_error(y_test, reg_extended.predict(X_test)))"
   ]
  },
  {
   "cell_type": "code",
   "execution_count": null,
   "metadata": {
    "collapsed": true
   },
   "outputs": [],
   "source": []
  }
 ],
 "metadata": {
  "anaconda-cloud": {},
  "kernelspec": {
   "display_name": "Python [conda env:ml_yandex]",
   "language": "python",
   "name": "conda-env-ml_yandex-py"
  },
  "language_info": {
   "codemirror_mode": {
    "name": "ipython",
    "version": 2
   },
   "file_extension": ".py",
   "mimetype": "text/x-python",
   "name": "python",
   "nbconvert_exporter": "python",
   "pygments_lexer": "ipython2",
   "version": "2.7.12"
  }
 },
 "nbformat": 4,
 "nbformat_minor": 2
}
